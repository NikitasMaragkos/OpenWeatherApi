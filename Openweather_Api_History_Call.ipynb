{
 "cells": [
  {
   "cell_type": "markdown",
   "metadata": {},
   "source": [
    "# Importing Libraries"
   ]
  },
  {
   "cell_type": "code",
   "execution_count": null,
   "metadata": {},
   "outputs": [],
   "source": [
    "import pandas as pd\n",
    "import numpy as np\n",
    "import time\n",
    "from datetime import datetime,timedelta\n",
    "import requests\n",
    "import json"
   ]
  },
  {
   "cell_type": "markdown",
   "metadata": {},
   "source": [
    "# Defining paths"
   ]
  },
  {
   "cell_type": "code",
   "execution_count": 197,
   "metadata": {},
   "outputs": [],
   "source": [
    "dict_of_data = {'Agrinio':'Agrinio_sample.csv',\n",
    "                'Alexandroupoli':'Alexandroupoli_sample.csv',\n",
    "                'Arta':'Arta_sample.csv',\n",
    "                'Athens':'Athens_sample.csv',\n",
    "                'Chalcis':'Chalcis_sample.csv',\n",
    "                'Corinth':'Corinth_sample.csv',\n",
    "                'Ioannina':'Ioannina_sample.csv',\n",
    "                'Kalamata':'Kalamata_sample.csv',\n",
    "                'Kozani':'Kozani_sample.csv',\n",
    "                'Lamia':'Lamia_sample.csv',\n",
    "                'Larissa':'Larissa_sample.csv',\n",
    "                'Nafplion':'Nafplion_sample.csv',\n",
    "                'Patras':'Patras_sample.csv',\n",
    "                'Volos':'Volos_sample.csv',\n",
    "                'Thessaloniki':'Thessaloniki_sample.csv'}"
   ]
  },
  {
   "cell_type": "code",
   "execution_count": 199,
   "metadata": {},
   "outputs": [],
   "source": [
    "dict_datas = {name:pd.read_csv(dict_of_data[name]) for name in list(dict_of_data.keys())}\n",
    "dict_city_lat_lon = {name:[dict_datas[name].lat[0],dict_datas[name].lon[0]] for name in list(dict_datas.keys())}"
   ]
  },
  {
   "cell_type": "markdown",
   "metadata": {},
   "source": [
    "# Defining useful functions"
   ]
  },
  {
   "cell_type": "code",
   "execution_count": 203,
   "metadata": {},
   "outputs": [],
   "source": [
    "def get_total_info_from_dictionary(aDictionary):\n",
    "    returned_dictionary = {}\n",
    "    \n",
    "    main_info    = aDictionary['main']\n",
    "    wind_info    = aDictionary['wind']\n",
    "    cloud_info   = aDictionary['clouds']\n",
    "    weather_info = aDictionary['weather'][0]\n",
    "    \n",
    "    certain_dt   = aDictionary['dt'] \n",
    "    date         = datetime.utcfromtimestamp(certain_dt)  \n",
    "    date_gr      = datetime.fromtimestamp(certain_dt)      \n",
    "    \n",
    "    returned_dictionary['dt']                    = certain_dt\n",
    "    returned_dictionary['dt_iso']                = str(date.strftime('%Y-%m-%d %H:%M:%S'))+' +0000 UTC'\n",
    "    returned_dictionary['timezone']              = int((date_gr - date ).total_seconds())\n",
    "    returned_dictionary['temp']                  = main_info['temp']\n",
    "    returned_dictionary['feels_like']            = main_info['feels_like']\n",
    "    returned_dictionary['temp_min']              = main_info['temp_min']\n",
    "    returned_dictionary['temp_max']              = main_info['temp_max']\n",
    "    returned_dictionary['pressure']              = main_info['pressure']\n",
    "    returned_dictionary['humidity']              = main_info['humidity']\n",
    "    returned_dictionary['wind_speed']            = wind_info['speed']\n",
    "    returned_dictionary['wind_deg']              = wind_info['deg']\n",
    "    returned_dictionary['clouds_all']            = cloud_info['all']\n",
    "    returned_dictionary['weather_id']            = weather_info['id']\n",
    "    returned_dictionary['weather_main']          = weather_info['main']\n",
    "    returned_dictionary['weather_description']   = weather_info['description']\n",
    "    returned_dictionary['weather_icon']          = weather_info['icon']\n",
    "    \n",
    "    return returned_dictionary\n",
    "\n",
    "def collect_total_info(aList):\n",
    "    list_of_dt                  = []\n",
    "    list_of_dt_iso              = []\n",
    "    list_of_timezone            = []\n",
    "    list_of_temp                = []\n",
    "    list_of_feels_like          = []\n",
    "    list_of_temp_min            = []\n",
    "    list_of_temp_max            = []\n",
    "    list_of_pressure            = []\n",
    "    list_of_humidity            = []\n",
    "    list_of_wind_speed          = []\n",
    "    list_of_wind_deg            = []\n",
    "    list_of_clouds_all          = []\n",
    "    list_of_weather_id          = []\n",
    "    list_of_weather_main        = []\n",
    "    list_of_weather_description = []\n",
    "    list_of_weather_icon        = []\n",
    "    for aDictionary in aList:\n",
    "        partial_info = get_total_info_from_dictionary(aDictionary)\n",
    "        list_of_dt.append(partial_info['dt'])\n",
    "        list_of_dt_iso.append(partial_info['dt_iso'])\n",
    "        list_of_timezone.append(partial_info['timezone'])\n",
    "        list_of_temp.append(  partial_info['temp']  - 273.15 )           # Transform Kelvin to Celcius \n",
    "        list_of_feels_like.append(partial_info['feels_like'] - 273.15 )  # Transform Kelvin to Celcius\n",
    "        list_of_temp_min.append(partial_info['temp_min'] - 273.15 )      # Transform Kelvin to Celcius\n",
    "        list_of_temp_max.append(partial_info['temp_max'] - 273.15)       # Transform Kelvin to Celcius\n",
    "        list_of_pressure.append(partial_info['pressure'])\n",
    "        list_of_humidity.append(partial_info['humidity'])\n",
    "        list_of_wind_speed.append(partial_info['wind_speed'])\n",
    "        list_of_wind_deg.append(partial_info['wind_deg' ] )\n",
    "        list_of_clouds_all.append(partial_info['clouds_all'])\n",
    "        list_of_weather_id.append(partial_info['weather_id'])\n",
    "        list_of_weather_main.append(partial_info['weather_main'])\n",
    "        list_of_weather_description.append(partial_info['weather_description'])\n",
    "        list_of_weather_icon.append(partial_info['weather_icon'])\n",
    "    \n",
    "    return [list_of_dt,list_of_dt_iso,list_of_timezone,\n",
    "            list_of_temp, list_of_feels_like, list_of_temp_min,\n",
    "            list_of_temp_max, list_of_pressure, list_of_humidity,\n",
    "            list_of_wind_speed, list_of_wind_deg, list_of_clouds_all,\n",
    "            list_of_weather_id, list_of_weather_main,list_of_weather_description,\n",
    "            list_of_weather_icon]    "
   ]
  },
  {
   "cell_type": "markdown",
   "metadata": {},
   "source": [
    "# Load missing data"
   ]
  },
  {
   "cell_type": "code",
   "execution_count": 219,
   "metadata": {},
   "outputs": [
    {
     "name": "stdout",
     "output_type": "stream",
     "text": [
      "Iteration 0 from 0\n",
      "200\n"
     ]
    }
   ],
   "source": [
    "final_dictionary = {}\n",
    "\n",
    "dateTime = datetime.today()\n",
    "unixtime_today  = int(time.mktime(dateTime.timetuple()))                     # Calculate current unixtime\n",
    "unixtime_latest = int(dict_datas[list(dict_datas.keys())[0]].dt.values[-1])  # Calculate latest data's unixtime\n",
    "gap_days        = (unixtime_today - unixtime_latest) / (3600 * 24)           # Calculate missing days\n",
    "number_of_iterations = int(gap_days / 7 )                                    # Calculate the number of API calls needed ( maximum days per call is 7 )\n",
    "for i in range(0,number_of_iterations + 1):\n",
    "    print('Iteration ' + str(i) + ' from ' + str(number_of_iterations))\n",
    "    for name in dict_city_lat_lon.keys():\n",
    "        unixtime_start = dict_datas[name].dt.values[-1] + 3600\n",
    "        unixtime_end   = unixtime_start + 3600 * (7 * 24 )\n",
    "        lat = dict_city_lat_lon[name][0]\n",
    "        lon = dict_city_lat_lon[name][1]\n",
    "        my_key = ''                                                          # Put yor API key here\n",
    "        url = 'http://history.openweathermap.org/data/2.5/history/city?lat='+str(lat)+'&lon='+str(lon)+'&type=hour&start='+str(unixtime_start)+'&end='+str(unixtime_end)+'&appid='+my_key\n",
    "        current_request = requests.get(url)\n",
    "        print(current_request.status_code)\n",
    "        final_dictionary[name] = current_request.json()\n",
    "        temp_dat = collect_total_info(final_dictionary[name]['list'])\n",
    "        list_of_city_name = [name] * len(temp_dat[0])\n",
    "        list_of_lat       = [lat]  * len(temp_dat[0])\n",
    "        list_of_lon       = [lon]  * len(temp_dat[0])\n",
    "        list_of_nan       = [np.NaN] * len(temp_dat[0])\n",
    "\n",
    "        extra_df = pd.DataFrame({'dt':temp_dat[0],'dt_iso':temp_dat[1],'timezone':temp_dat[2],\n",
    "                                 'city_name':list_of_city_name, 'lat':list_of_lat, 'lon':list_of_lon,\n",
    "                                 'temp':temp_dat[3], 'feels_like':temp_dat[4], 'temp_min':temp_dat[5],\n",
    "                                 'temp_max':temp_dat[6], 'pressure':temp_dat[7], 'sea_level':list_of_nan,\n",
    "                                 'grnd_level':list_of_nan, 'humidity':temp_dat[8], 'wind_speed':temp_dat[9],\n",
    "                                 'wind_deg':temp_dat[10], 'rain_1h':list_of_nan, 'rain_3h':list_of_nan,\n",
    "                                 'snow_1h':list_of_nan, 'snow_3h':list_of_nan, 'clouds_all':temp_dat[11],\n",
    "                                 'weather_id':temp_dat[12], 'weather_main':temp_dat[13], 'weather_description':temp_dat[14],\n",
    "                                 'weather_icon':temp_dat[15] }\n",
    "                               )\n",
    "        dict_datas[name] = dict_datas[name].append(extra_df, ignore_index=True)"
   ]
  },
  {
   "cell_type": "markdown",
   "metadata": {},
   "source": [
    "# Save updated data"
   ]
  },
  {
   "cell_type": "code",
   "execution_count": 209,
   "metadata": {},
   "outputs": [],
   "source": [
    "for name in dict_datas.keys():\n",
    "    dict_datas[name].to_csv(name+'.csv',index=False)"
   ]
  }
 ],
 "metadata": {
  "kernelspec": {
   "display_name": "Python 3",
   "language": "python",
   "name": "python3"
  },
  "language_info": {
   "codemirror_mode": {
    "name": "ipython",
    "version": 3
   },
   "file_extension": ".py",
   "mimetype": "text/x-python",
   "name": "python",
   "nbconvert_exporter": "python",
   "pygments_lexer": "ipython3",
   "version": "3.8.10"
  }
 },
 "nbformat": 4,
 "nbformat_minor": 4
}
